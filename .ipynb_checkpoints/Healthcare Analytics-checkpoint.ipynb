{
 "cells": [
  {
   "cell_type": "markdown",
   "metadata": {},
   "source": [
    "### Importing Required Libraries "
   ]
  },
  {
   "cell_type": "code",
   "execution_count": null,
   "metadata": {},
   "outputs": [],
   "source": [
    "import numpy as np #For linear algebraic functions\n",
    "import pandas as pd #for data handling\n",
    "\n",
    "#Data Visualization libraries \n",
    "import matplotlib.pyplot as plt\n",
    "import seaborn as sns\n",
    "\n",
    "#For data preprocessing \n",
    "from scipy.stats import zscore #Detecting outliers\n",
    "from sklearn.preprocessing import StandardScaler #Normalizing data\n",
    "\n",
    "#For clustering and evaluation\n",
    "from sklearn.cluster import KMeans\n",
    "from sklearn.metrics import silhouette_score\n",
    "\n",
    "\n",
    "import warnings\n",
    "warnings.filterwarnings(action = 'ignore')"
   ]
  },
  {
   "cell_type": "code",
   "execution_count": null,
   "metadata": {},
   "outputs": [],
   "source": [
    "data = pd.read_csv(\"/home/rachit/Desktop/internship/input/AHS_districtwise_2012-13.csv\")"
   ]
  },
  {
   "cell_type": "markdown",
   "metadata": {},
   "source": [
    "# Data Exploration "
   ]
  },
  {
   "cell_type": "code",
   "execution_count": null,
   "metadata": {
    "scrolled": true
   },
   "outputs": [],
   "source": [
    "data.head()"
   ]
  },
  {
   "cell_type": "code",
   "execution_count": null,
   "metadata": {
    "scrolled": true
   },
   "outputs": [],
   "source": [
    "data.tail()"
   ]
  },
  {
   "cell_type": "code",
   "execution_count": null,
   "metadata": {
    "scrolled": true
   },
   "outputs": [],
   "source": [
    "data.shape"
   ]
  },
  {
   "cell_type": "code",
   "execution_count": null,
   "metadata": {},
   "outputs": [],
   "source": [
    "data.describe().T"
   ]
  },
  {
   "cell_type": "code",
   "execution_count": null,
   "metadata": {},
   "outputs": [],
   "source": [
    "columns = list(data.columns)\n",
    "columns"
   ]
  },
  {
   "cell_type": "code",
   "execution_count": null,
   "metadata": {},
   "outputs": [],
   "source": [
    "data.info()"
   ]
  },
  {
   "cell_type": "markdown",
   "metadata": {},
   "source": [
    "### Reducing dimensionality of the dataset by selecting a subset of features. "
   ]
  },
  {
   "cell_type": "code",
   "execution_count": null,
   "metadata": {},
   "outputs": [],
   "source": [
    "reduced_features = ['State','SAMPLE PARTICULARS', 'HOUSEHOLD CHARACTERISTICS', 'EFFECTIVE LITERACY RATE','MARRAIGE', \n",
    "            'WORK STATUS', 'ACUTE ILLNESS', 'CHRONIC ILLNESS', 'FERTILITY','ANTE NATAL CARE','POST NATAL CARE',\n",
    "           'DELIVERY CARE', 'IMMUNIZATION', 'CHILDHOOD DISEASES', 'BREASTFEEDING', 'MORTALITY']\n",
    "new_column = []\n",
    "for col in columns:\n",
    "    for feature in reduced_features:\n",
    "        if feature in col:\n",
    "            new_column.append(col)\n",
    "np.size(new_column)"
   ]
  },
  {
   "cell_type": "markdown",
   "metadata": {},
   "source": [
    "Further removing Male, Female, Rural and Urban subdivisions in the data. "
   ]
  },
  {
   "cell_type": "code",
   "execution_count": null,
   "metadata": {},
   "outputs": [],
   "source": [
    "reduced_column = list(new_column)\n",
    "for col in new_column:\n",
    "    if 'Rural' in col or 'Urban' in col or 'Male' in col or 'Female' in col:\n",
    "        reduced_column.remove(col)"
   ]
  },
  {
   "cell_type": "code",
   "execution_count": null,
   "metadata": {},
   "outputs": [],
   "source": [
    "len(reduced_column)"
   ]
  },
  {
   "cell_type": "code",
   "execution_count": null,
   "metadata": {},
   "outputs": [],
   "source": [
    "reduced_data = data[reduced_column]"
   ]
  },
  {
   "cell_type": "markdown",
   "metadata": {},
   "source": [
    "Exploring / visualizing the reduced dataset."
   ]
  },
  {
   "cell_type": "code",
   "execution_count": null,
   "metadata": {
    "scrolled": false
   },
   "outputs": [],
   "source": [
    "corr = data.corr()\n",
    "mask = np.zeros_like(corr, dtype=np.bool)\n",
    "mask[np.triu_indices_from(mask)] = True\n",
    "\n",
    "f, ax = plt.subplots(figsize=(25, 23))\n",
    "\n",
    "sns.heatmap(corr, mask = mask, ax=ax)"
   ]
  },
  {
   "cell_type": "code",
   "execution_count": null,
   "metadata": {
    "scrolled": true
   },
   "outputs": [],
   "source": [
    "sns.pairplot(reduced_data.iloc[:, 10:21])"
   ]
  },
  {
   "cell_type": "markdown",
   "metadata": {},
   "source": [
    "# Data Cleaning"
   ]
  },
  {
   "cell_type": "code",
   "execution_count": null,
   "metadata": {},
   "outputs": [],
   "source": [
    "#removing categorical columns State and State / District Name as they do not prove to be useful while \n",
    "#forming clusters\n",
    "reduced_data = reduced_data.iloc[:, 2:]"
   ]
  },
  {
   "cell_type": "code",
   "execution_count": null,
   "metadata": {},
   "outputs": [],
   "source": [
    "#Checking for null values\n",
    "reduced_data.isnull().sum().sort_values(ascending=False)"
   ]
  },
  {
   "cell_type": "markdown",
   "metadata": {},
   "source": [
    "### Detecting Outliers"
   ]
  },
  {
   "cell_type": "code",
   "execution_count": null,
   "metadata": {
    "scrolled": true
   },
   "outputs": [],
   "source": [
    "#detecting outliers in each column\n",
    "Q1 = reduced_data.quantile(0.25)\n",
    "Q3 = reduced_data.quantile(0.75)\n",
    "IQR = Q3 - Q1\n",
    "outliers = ((reduced_data < (Q1 - 2.4*IQR)) | (reduced_data>(Q3 + 2.4*IQR))).sum().sort_values(ascending=False)\n",
    "print(outliers)"
   ]
  },
  {
   "cell_type": "markdown",
   "metadata": {},
   "source": [
    "### Visualizing the outliers"
   ]
  },
  {
   "cell_type": "code",
   "execution_count": null,
   "metadata": {
    "scrolled": true
   },
   "outputs": [],
   "source": [
    "fig, axes = plt.subplots(1,3, figsize=(18,7))\n",
    "sns.boxplot(reduced_data['BREASTFEEDING AND SUPPLEMENTATION - AVERAGE MONTH BY WHICH CHILDREN RECEIVED FOODS OTHER THAN BREAST MILK - Vegetables/Fruits - Total'], orient='v', ax=axes[0])\n",
    "sns.boxplot(reduced_data['CHRONIC ILLNESS - Having diagnosed for Chronic Illness (Per 100,000 Population) - Hypertension - Person - Total'], orient='v', ax=axes[1])\n",
    "sns.boxplot(reduced_data['ACUTE ILLNESS - Persons suffering from Acute Illness (Per 100,000 Population) - Diarrhoea/Dysentery - Person - Total'], orient='v', ax=axes[2])\n",
    "plt.show()"
   ]
  },
  {
   "cell_type": "code",
   "execution_count": null,
   "metadata": {},
   "outputs": [],
   "source": [
    "fig, axes = plt.subplots(3,1, figsize=(16,10))\n",
    "axes[0].scatter(data['BREASTFEEDING AND SUPPLEMENTATION - AVERAGE MONTH BY WHICH CHILDREN RECEIVED FOODS OTHER THAN BREAST MILK - Vegetables/Fruits - Total'],data['CHRONIC ILLNESS - Having diagnosed for any kind of Chronic Illness and getting Regular Treatment from Government Source (%) - Person - Total'])\n",
    "axes[0].set_title(\"Breastfeeding and Supplementation VS Chronic Disease\")\n",
    "axes[1].scatter(data['CHRONIC ILLNESS - Having diagnosed for Chronic Illness (Per 100,000 Population) - Hypertension - Person - Total'],data['CHRONIC ILLNESS - Having diagnosed for any kind of Chronic Illness and getting Regular Treatment from Government Source (%) - Person - Total'])\n",
    "axes[1].set_title(\"Hypertension VS Any Chronic Disease\")\n",
    "axes[2].scatter(data['ACUTE ILLNESS - Persons suffering from Acute Illness (Per 100,000 Population) - Diarrhoea/Dysentery - Person - Total'] ,data['CHRONIC ILLNESS - Having diagnosed for any kind of Chronic Illness and getting Regular Treatment from Government Source (%) - Person - Total'])\n",
    "axes[2].set_title(\"Acute Illness VS Chronic Disease\")\n",
    "plt.show()"
   ]
  },
  {
   "cell_type": "markdown",
   "metadata": {},
   "source": [
    "### Removing outliers"
   ]
  },
  {
   "cell_type": "code",
   "execution_count": null,
   "metadata": {},
   "outputs": [],
   "source": [
    "reduced_data = reduced_data[~((reduced_data < (Q1 - 2.4 * IQR)) |(reduced_data > (Q3 + 2.4 * IQR))).any(axis=1)]\n",
    "reduced_data = reduced_data.reset_index(drop=True)\n",
    "reduced_data.shape\n"
   ]
  },
  {
   "cell_type": "code",
   "execution_count": null,
   "metadata": {},
   "outputs": [],
   "source": [
    "outliers = ((reduced_data < (Q1 - 2.4*IQR)) | (reduced_data>(Q3 + 2.4*IQR))).sum().sort_values(ascending=False)\n",
    "print(outliers)"
   ]
  },
  {
   "cell_type": "markdown",
   "metadata": {},
   "source": [
    "### Scaling the data"
   ]
  },
  {
   "cell_type": "code",
   "execution_count": null,
   "metadata": {},
   "outputs": [],
   "source": [
    "scale = StandardScaler()\n",
    "scaled_data = scale.fit_transform(reduced_data)\n",
    "scaled_df = pd.DataFrame(data=scaled_data, columns = reduced_data.columns)"
   ]
  },
  {
   "cell_type": "code",
   "execution_count": null,
   "metadata": {},
   "outputs": [],
   "source": [
    "fig, ax=plt.subplots(1,2,figsize=(15,5))\n",
    "sns.distplot(reduced_data['CHRONIC ILLNESS - Having diagnosed for Chronic Illness (Per 100,000 Population) - Hypertension - Person - Total'],ax=ax[0],color='#D341CD')\n",
    "ax[0].set_title(\"Original Data\")\n",
    "sns.distplot(scaled_df['CHRONIC ILLNESS - Having diagnosed for Chronic Illness (Per 100,000 Population) - Hypertension - Person - Total'], ax=ax[1],color='#D341CD')\n",
    "ax[1].set_title(\"Scaled data\")\n",
    "plt.show()"
   ]
  },
  {
   "cell_type": "markdown",
   "metadata": {},
   "source": [
    "# Clustering "
   ]
  },
  {
   "cell_type": "markdown",
   "metadata": {},
   "source": [
    "### Choosing number of clusters from the Elbow Method"
   ]
  },
  {
   "cell_type": "code",
   "execution_count": null,
   "metadata": {},
   "outputs": [],
   "source": [
    "cost = []\n",
    "n_clusters = 20\n",
    "for i in range(1,21):\n",
    "    kmeans = KMeans(i)\n",
    "    kmeans.fit(scaled_df)\n",
    "    cost.append(kmeans.inertia_)"
   ]
  },
  {
   "cell_type": "code",
   "execution_count": null,
   "metadata": {},
   "outputs": [],
   "source": [
    "plt.figure(figsize=(8,5))\n",
    "plt.plot(range(1,21), cost, marker='o')\n",
    "plt.xlabel('Clusters')\n",
    "plt.ylabel('Inertia')\n",
    "plt.title('Elbow Curve Method')\n",
    "plt.show()"
   ]
  },
  {
   "cell_type": "markdown",
   "metadata": {},
   "source": [
    "### Applying K-means with 7 clusters"
   ]
  },
  {
   "cell_type": "code",
   "execution_count": null,
   "metadata": {},
   "outputs": [],
   "source": [
    "#choosing 7 clusters\n",
    "kmeans = KMeans(n_clusters = 7)\n",
    "kmeans.fit(scaled_df)\n",
    "labels = kmeans.labels_\n"
   ]
  },
  {
   "cell_type": "code",
   "execution_count": null,
   "metadata": {
    "scrolled": true
   },
   "outputs": [],
   "source": [
    "print(silhouette_score(scaled_df, labels))"
   ]
  },
  {
   "cell_type": "code",
   "execution_count": null,
   "metadata": {},
   "outputs": [],
   "source": [
    "scaled_df['cluster'] = labels\n",
    "temp = scaled_df.iloc[:, 90:-1]\n",
    "temp['cluster'] = labels"
   ]
  },
  {
   "cell_type": "code",
   "execution_count": null,
   "metadata": {
    "scrolled": false
   },
   "outputs": [],
   "source": [
    "sns.pairplot(data = temp, hue='cluster')"
   ]
  },
  {
   "cell_type": "markdown",
   "metadata": {},
   "source": [
    "From the visualisation of the clusters, the results are not comprehensible and do not give us any information about the clusters due to high dimensionality of the dataset. This is known as <b> Curse of Dimensionality </b> and therefore we need to further reduce the features of the dataset.\n",
    "\n",
    "Therefore we choose the following features that are relevant to the healthcare domain"
   ]
  },
  {
   "cell_type": "code",
   "execution_count": null,
   "metadata": {},
   "outputs": [],
   "source": [
    "relevant_columns = ['FERTILITY - Crude Birth Rate (CBR) - Total',\n",
    "       'FERTILITY - Natural Growth Rate - Total',\n",
    "       'FERTILITY - Total Fertility Rate - Total',\n",
    "       'ANTE NATAL CARE - Mothers who received any Antenatal Check-up (%) - Total','ANTE NATAL CARE - Mothers who received at least one Tetanus Toxoid (TT) injection (%) - Total',\n",
    "       'ANTE NATAL CARE - Mothers who consumed IFA for 100 days or more (%) - Total','DELIVERY CARE - Institutional Delivery (%) - Total','DELIVERY CARE - Delivery at Home (%) - Total','DELIVERY CARE - Delivery at Private Institution (%) - Total','POST NATAL CARE - Mothers who received Post-natal Check-up within 48 hrs. of delivery (%) - Total',\n",
    "       'POST NATAL CARE - Mothers who received Post-natal Check-up within 1 week of delivery (%) - Total',\n",
    "       'POST NATAL CARE - Mothers who did not receive any Post-natal Check-up (%) - Total',\n",
    "       'POST NATAL CARE - New borns who were checked up within 24 hrs. of birth (%) - Total', 'IMMUNIZATION, VITAMIN A & IRON SUPPLEMENT AND BIRTH WEIGHT - Children aged 12-23 months Fully Immunized (%) - Total','IMMUNIZATION, VITAMIN A & IRON SUPPLEMENT AND BIRTH WEIGHT - Children who did not receive any vaccination (%) - Total','CHILDHOOD DISEASES - Children suffering from Diarrhoea (%) - Total',\n",
    "       'CHILDHOOD DISEASES - Children suffering from Diarrhoea who received HAF/ORS/ORT (%) - Total',\n",
    "       'CHILDHOOD DISEASES - Children suffering from Acute Respiratory Infection (%) - Total',\n",
    "       'CHILDHOOD DISEASES - Children suffering from Acute Respiratory Infection who sought treatment (%) - Total',\n",
    "       'CHILDHOOD DISEASES - Children suffering from Fever (%) - Total',\n",
    "       'CHILDHOOD DISEASES - Children suffering from Fever who sought treatment (%) - Total',\n",
    "       'BREASTFEEDING AND SUPPLEMENTATION - Children breastfed within one hour of birth (%) - Total',\n",
    "       'BREASTFEEDING AND SUPPLEMENTATION - Children (aged 6-35 months) exclusively breastfed for at least six months (%) - Total',\n",
    "       'BREASTFEEDING AND SUPPLEMENTATION - CHILDREN WHO RECEIVED FOODS OTHER THAN BREAST MILK DURING FIRST 6 MONTHS - Water (%) - Total',\n",
    "       'BREASTFEEDING AND SUPPLEMENTATION - CHILDREN WHO RECEIVED FOODS OTHER THAN BREAST MILK DURING FIRST 6 MONTHS - Animal/Formula Milk (%) - Total',\n",
    "       'BREASTFEEDING AND SUPPLEMENTATION - CHILDREN WHO RECEIVED FOODS OTHER THAN BREAST MILK DURING FIRST 6 MONTHS - Semi-Solid mashed food (%) - Total',\n",
    "       'BREASTFEEDING AND SUPPLEMENTATION - CHILDREN WHO RECEIVED FOODS OTHER THAN BREAST MILK DURING FIRST 6 MONTHS - Solid (Adult) Food (%) - Total',\n",
    "       'BREASTFEEDING AND SUPPLEMENTATION - CHILDREN WHO RECEIVED FOODS OTHER THAN BREAST MILK DURING FIRST 6 MONTHS - Vegetables/Fruits (%) - Total',\n",
    "       'BREASTFEEDING AND SUPPLEMENTATION - AVERAGE MONTH BY WHICH CHILDREN RECEIVED FOODS OTHER THAN BREAST MILK - Water - Total',\n",
    "       'BREASTFEEDING AND SUPPLEMENTATION - AVERAGE MONTH BY WHICH CHILDREN RECEIVED FOODS OTHER THAN BREAST MILK - Animal/Formula Milk - Total',\n",
    "       'BREASTFEEDING AND SUPPLEMENTATION - AVERAGE MONTH BY WHICH CHILDREN RECEIVED FOODS OTHER THAN BREAST MILK - Semi-Solid mashed food - Total',\n",
    "       'BREASTFEEDING AND SUPPLEMENTATION - AVERAGE MONTH BY WHICH CHILDREN RECEIVED FOODS OTHER THAN BREAST MILK - Solid (Adult) Food - Total',\n",
    "       'BREASTFEEDING AND SUPPLEMENTATION - CHILDREN WHO RECEIVED FOODS OTHER THAN BREAST MILK DURING FIRST 6 MONTHS - Vegetables/Fruits (%) - Total',\n",
    "       'MORTALITY - Crude Death Rate (CDR) - Total - Person',\n",
    "       'MORTALITY - Infant Mortality Rate (IMR) - Total - Person',\n",
    "       'MORTALITY - Neo-natal Mortality Rate - Total',\n",
    "       'MORTALITY - Post Neo-natal Mortality Rate - Total',\n",
    "       'MORTALITY - Under Five Mortality Rate (U5MR) - Total - Person',]"
   ]
  },
  {
   "cell_type": "code",
   "execution_count": null,
   "metadata": {},
   "outputs": [],
   "source": [
    "[relevant_columns.append(i) for i in scaled_df if 'CHRONIC' in i] "
   ]
  },
  {
   "cell_type": "code",
   "execution_count": null,
   "metadata": {},
   "outputs": [],
   "source": [
    "relevant_df = scaled_df[relevant_columns]\n",
    "original_df = reduced_data[relevant_columns]"
   ]
  },
  {
   "cell_type": "code",
   "execution_count": null,
   "metadata": {},
   "outputs": [],
   "source": [
    "#renaming the columns\n",
    "relevant_df.columns = ['CBR','NGR','TFR','ANC-Any checkup','ANC-Received TT Injection', 'ANC-Consumed IFA for 100 days',\n",
    "              'Delivery - Institutional', 'Delivery - Home','Delivery - Private', 'PNC-Checkup in 48 hrs','PNC-Checkup in 1 week',\n",
    "              'PNC-No Checkup','PNC-Checked in 24 hrs (newborns)','Children - Immunized','Children - No vaccination',\n",
    "              'Childhood Disease-Diarrhoea','Childhood Disease-Diarrhoea(HAF/ORS/ORT)','Childhood Disease-Acute Resp. Infection',\n",
    "               'Childhood Disease-Acute Resp. Infection(Treated)','Childhood Disease-Fever','Childhood Disease-Fever(Treated)',\n",
    "               'BFS-Breastfed in 1 hour','BFS-Breastfed for 6 months','BFS-Water','BFS-Animal/Formula Milk','BFS-Semi-solid Food',\n",
    "               'BFS-Solid Food','BFS-Vegetable/Fruits','BFS(Month)-Water','BFS(Month)-Milk','BFS(Month)-Semi-solid food','BFS(Month)-Adult Food',\n",
    "               'BFS(Month)-Vegetable/Fruits','Mortality-CDR','Mortality-IMR','Mortality-NNMR','Mortality-PNNMR',\n",
    "               'Mortality-U5MR','Chronic Illness-Symptoms','Chronic Illness-Symptoms(Medical care)','Chronic Illness-Diabetes',\n",
    "               'Chronic Illness-Hypertension','Chronic Illness-TB','Chronic Illness-Asthma','Chronic Illness-Arthritis','Chronic Illness-Any',\n",
    "               'Chronic Illness-Receiving Treatment','Chronic Illness-Receiving Treatment(govt)']\n",
    "original_df.columns = ['CBR','NGR','TFR','ANC-Any checkup','ANC-Received TT Injection', 'ANC-Consumed IFA for 100 days',\n",
    "              'Delivery - Institutional', 'Delivery - Home','Delivery - Private', 'PNC-Checkup in 48 hrs','PNC-Checkup in 1 week',\n",
    "              'PNC-No Checkup','PNC-Checked in 24 hrs (newborns)','Children - Immunized','Children - No vaccination',\n",
    "              'Childhood Disease-Diarrhoea','Childhood Disease-Diarrhoea(HAF/ORS/ORT)','Childhood Disease-Acute Resp. Infection',\n",
    "               'Childhood Disease-Acute Resp. Infection(Treated)','Childhood Disease-Fever','Childhood Disease-Fever(Treated)',\n",
    "               'BFS-Breastfed in 1 hour','BFS-Breastfed for 6 months','BFS-Water','BFS-Animal/Formula Milk','BFS-Semi-solid Food',\n",
    "               'BFS-Solid Food','BFS-Vegetable/Fruits','BFS(Month)-Water','BFS(Month)-Milk','BFS(Month)-Semi-solid food','BFS(Month)-Adult Food',\n",
    "               'BFS(Month)-Vegetable/Fruits','Mortality-CDR','Mortality-IMR','Mortality-NNMR','Mortality-PNNMR',\n",
    "               'Mortality-U5MR','Chronic Illness-Symptoms','Chronic Illness-Symptoms(Medical care)','Chronic Illness-Diabetes',\n",
    "               'Chronic Illness-Hypertension','Chronic Illness-TB','Chronic Illness-Asthma','Chronic Illness-Arthritis','Chronic Illness-Any',\n",
    "               'Chronic Illness-Receiving Treatment','Chronic Illness-Receiving Treatment(govt)']\n",
    "\n"
   ]
  },
  {
   "cell_type": "code",
   "execution_count": null,
   "metadata": {},
   "outputs": [],
   "source": [
    "relevant_df.shape"
   ]
  },
  {
   "cell_type": "markdown",
   "metadata": {},
   "source": [
    "#### Again applying K-Means"
   ]
  },
  {
   "cell_type": "code",
   "execution_count": null,
   "metadata": {},
   "outputs": [],
   "source": [
    "cost = []\n",
    "for k in range(1,21):\n",
    "    model = KMeans(k)\n",
    "    model.fit(relevant_df)\n",
    "    cost.append(model.inertia_)"
   ]
  },
  {
   "cell_type": "code",
   "execution_count": null,
   "metadata": {
    "scrolled": true
   },
   "outputs": [],
   "source": [
    "plt.figure(figsize=(8,5))\n",
    "plt.plot(range(1,21), cost, marker='o')\n",
    "plt.title(\"Elbow Curve Method\")\n",
    "plt.xlabel(\"No. of Clusters\")\n",
    "plt.ylabel(\"Inertia\")\n",
    "plt.show()"
   ]
  },
  {
   "cell_type": "markdown",
   "metadata": {},
   "source": [
    "#### Choosing 5 clusters"
   ]
  },
  {
   "cell_type": "code",
   "execution_count": null,
   "metadata": {},
   "outputs": [],
   "source": [
    "model = KMeans(5)\n",
    "model.fit(relevant_df)\n",
    "labels = model.labels_\n"
   ]
  },
  {
   "cell_type": "code",
   "execution_count": null,
   "metadata": {},
   "outputs": [],
   "source": [
    "relevant_df['cluster'] = labels"
   ]
  },
  {
   "cell_type": "code",
   "execution_count": null,
   "metadata": {
    "scrolled": true
   },
   "outputs": [],
   "source": [
    "data = relevant_df.iloc[:,:11]\n",
    "data['cluster'] = relevant_df['cluster']\n",
    "sns.pairplot(data=data, hue='cluster')\n",
    "\n",
    "data = relevant_df.iloc[:, 11:21]\n",
    "data['cluster'] = relevant_df['cluster']\n",
    "sns.pairplot(data=data, hue='cluster', size=3)\n",
    "\n",
    "data = relevant_df.iloc[:, 21:31]\n",
    "data['cluster'] = relevant_df['cluster']\n",
    "sns.pairplot(data=data, hue='cluster', size=3)\n",
    "\n",
    "data = relevant_df.iloc[:, 31:41]\n",
    "data['cluster'] = relevant_df['cluster']\n",
    "sns.pairplot(data=data, hue='cluster', size=3)\n",
    "\n",
    "data = relevant_df.iloc[:, 41:]\n",
    "data['cluster'] = relevant_df['cluster']\n",
    "sns.pairplot(data=data, hue='cluster', size=3)"
   ]
  },
  {
   "cell_type": "code",
   "execution_count": null,
   "metadata": {},
   "outputs": [],
   "source": [
    "relevant_df.drop('cluster', inplace = True, axis=1)"
   ]
  },
  {
   "cell_type": "code",
   "execution_count": null,
   "metadata": {},
   "outputs": [],
   "source": [
    "print(silhouette_score(relevant_df, labels))"
   ]
  },
  {
   "cell_type": "code",
   "execution_count": null,
   "metadata": {},
   "outputs": [],
   "source": [
    "reduced_df = relevant_df[['NGR','TFR','Delivery - Home', 'Delivery - Institutional', 'Children - No vaccination','BFS-Breastfed in 1 hour','BFS-Vegetable/Fruits','Mortality-CDR','Mortality-IMR','Chronic Illness-Symptoms','Chronic Illness-Any']]\n",
    "original_df = original_df[['NGR','TFR','Delivery - Home', 'Delivery - Institutional', 'Children - No vaccination','BFS-Breastfed in 1 hour','BFS-Vegetable/Fruits','Mortality-CDR','Mortality-IMR','Chronic Illness-Symptoms','Chronic Illness-Any']]"
   ]
  },
  {
   "cell_type": "code",
   "execution_count": null,
   "metadata": {},
   "outputs": [],
   "source": [
    "reduced_df.shape"
   ]
  },
  {
   "cell_type": "code",
   "execution_count": null,
   "metadata": {},
   "outputs": [],
   "source": [
    "cost = []\n",
    "for k in range(1,21):\n",
    "    model = KMeans(k)\n",
    "    model.fit(reduced_df)\n",
    "    cost.append(model.inertia_)\n",
    "\n",
    "plt.figure(figsize=(8,5))\n",
    "plt.plot(range(1,21), cost, marker='o')\n",
    "plt.title(\"Elbow Method\")\n",
    "plt.xlabel(\"No. of Clusters\")\n",
    "plt.ylabel(\"Inertia\") \n",
    "plt.show()"
   ]
  },
  {
   "cell_type": "code",
   "execution_count": null,
   "metadata": {
    "scrolled": true
   },
   "outputs": [],
   "source": [
    "# 6 clusters\n",
    "kmeans = KMeans(n_clusters=6, init='k-means++', n_init=10, max_iter=600)\n",
    "labels = kmeans.fit_predict(reduced_df)\n",
    "print(silhouette_score(relevant_df, labels))"
   ]
  },
  {
   "cell_type": "markdown",
   "metadata": {},
   "source": [
    "# Applying PCA"
   ]
  },
  {
   "cell_type": "code",
   "execution_count": null,
   "metadata": {},
   "outputs": [],
   "source": [
    "from sklearn.decomposition import PCA\n",
    "pca = PCA(n_components=2)\n",
    "df_pca = pca.fit_transform(reduced_df)\n",
    "pca.explained_variance_ratio_"
   ]
  },
  {
   "cell_type": "code",
   "execution_count": null,
   "metadata": {
    "scrolled": true
   },
   "outputs": [],
   "source": [
    "cost = []\n",
    "for k in range(1,21):\n",
    "    model = KMeans(k)\n",
    "    model.fit(df_pca)\n",
    "    cost.append(model.inertia_)\n",
    "    \n",
    "plt.figure(figsize=(8,5))\n",
    "plt.plot(range(1,21), cost, marker='o')\n",
    "plt.title(\"Elbow Method\")\n",
    "plt.xlabel(\"No. of Clusters\")\n",
    "plt.ylabel(\"Inertia\") \n",
    "plt.show()"
   ]
  },
  {
   "cell_type": "code",
   "execution_count": null,
   "metadata": {},
   "outputs": [],
   "source": [
    "model2 = KMeans(n_clusters = 4, init='k-means++', n_init = 10, max_iter =600)\n",
    "labels = model2.fit_predict(df_pca)"
   ]
  },
  {
   "cell_type": "code",
   "execution_count": null,
   "metadata": {},
   "outputs": [],
   "source": [
    "print(silhouette_score(df_pca, labels))"
   ]
  },
  {
   "cell_type": "markdown",
   "metadata": {},
   "source": [
    "# Cluster Visualization"
   ]
  },
  {
   "cell_type": "code",
   "execution_count": null,
   "metadata": {},
   "outputs": [],
   "source": [
    "plt.figure(figsize=(13,10))\n",
    "plt.scatter(df_pca[labels==0, 0], df_pca[labels==0, 1], color = 'red', label = 'Cluster 0')\n",
    "plt.scatter(df_pca[labels==1, 0], df_pca[labels==1, 1], color = 'blue', label= 'Cluster 1')\n",
    "plt.scatter(df_pca[labels==2, 0], df_pca[labels==2, 1], color= 'green', label='Cluster 2')\n",
    "plt.scatter(df_pca[labels==3, 0], df_pca[labels==3, 1], color='yellow', label='Cluster 3')\n",
    "plt.scatter(model2.cluster_centers_[:,0], model2.cluster_centers_[:,1], color='black',s=150, label='Centroids')\n",
    "plt.xlabel(\"Principal Component 1\")\n",
    "plt.ylabel(\"Principal Component 2\")\n",
    "plt.legend()\n",
    "plt.show()"
   ]
  },
  {
   "cell_type": "code",
   "execution_count": null,
   "metadata": {},
   "outputs": [],
   "source": [
    "original_df['cluster'] = labels"
   ]
  },
  {
   "cell_type": "markdown",
   "metadata": {},
   "source": [
    "# Cluster Analysis"
   ]
  },
  {
   "cell_type": "code",
   "execution_count": null,
   "metadata": {},
   "outputs": [],
   "source": [
    "from collections import Counter\n",
    "clusterCount = dict(Counter(labels))\n",
    "clusterCount"
   ]
  },
  {
   "cell_type": "code",
   "execution_count": null,
   "metadata": {},
   "outputs": [],
   "source": [
    "clustersdf = []\n",
    "for i in range(5):\n",
    "    clustersdf.append(original_df[labels==i])\n",
    "    clustersdf[i].reset_index(drop=True, inplace=True)"
   ]
  },
  {
   "cell_type": "code",
   "execution_count": null,
   "metadata": {},
   "outputs": [],
   "source": [
    "statsdf = original_df.describe().T[['min','max']]\n",
    "\n",
    "statsdf['Cluster 0'] = clustersdf[0].mean().to_frame()\n",
    "\n",
    "statsdf['Cluster 1'] = clustersdf[1].mean().to_frame()\n",
    "statsdf['Cluster 2'] = clustersdf[2].mean().to_frame()\n",
    "statsdf['Cluster 3'] = clustersdf[3].mean().to_frame()"
   ]
  },
  {
   "cell_type": "code",
   "execution_count": null,
   "metadata": {
    "scrolled": true
   },
   "outputs": [],
   "source": [
    "statsdf"
   ]
  },
  {
   "cell_type": "code",
   "execution_count": null,
   "metadata": {
    "scrolled": false
   },
   "outputs": [],
   "source": [
    "df_final = original_df[['Delivery - Home','Delivery - Institutional','BFS-Breastfed in 1 hour','BFS-Vegetable/Fruits',\n",
    "                'Mortality-IMR','Chronic Illness-Symptoms','Chronic Illness-Any','cluster']]\n",
    "statsFinal = df_final.describe().T[['min','max']]\n",
    "statsFinal['Cluster 0'] = df_final[df_final['cluster']==0].mean()\n",
    "statsFinal['Cluster 1'] = df_final[df_final['cluster']==1].mean()\n",
    "statsFinal['Cluster 2'] = df_final[df_final['cluster']==2].mean()\n",
    "statsFinal['Cluster 3'] = df_final[df_final['cluster']==3].mean()\n",
    "statsFinal"
   ]
  }
 ],
 "metadata": {
  "kernelspec": {
   "display_name": "Python 3",
   "language": "python",
   "name": "python3"
  },
  "language_info": {
   "codemirror_mode": {
    "name": "ipython",
    "version": 3
   },
   "file_extension": ".py",
   "mimetype": "text/x-python",
   "name": "python",
   "nbconvert_exporter": "python",
   "pygments_lexer": "ipython3",
   "version": "3.7.1"
  }
 },
 "nbformat": 4,
 "nbformat_minor": 2
}
